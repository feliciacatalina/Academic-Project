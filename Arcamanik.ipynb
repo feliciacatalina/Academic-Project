{
 "cells": [
  {
   "cell_type": "code",
   "execution_count": 1,
   "id": "3f0d8b50",
   "metadata": {},
   "outputs": [
    {
     "name": "stdout",
     "output_type": "stream",
     "text": [
      "Requirement already satisfied: mpld3 in c:\\users\\asus\\anaconda3\\lib\\site-packages (0.5.9)\n",
      "Requirement already satisfied: matplotlib in c:\\users\\asus\\anaconda3\\lib\\site-packages (from mpld3) (3.5.2)\n",
      "Requirement already satisfied: jinja2 in c:\\users\\asus\\anaconda3\\lib\\site-packages (from mpld3) (2.11.3)\n",
      "Requirement already satisfied: MarkupSafe>=0.23 in c:\\users\\asus\\anaconda3\\lib\\site-packages (from jinja2->mpld3) (2.0.1)\n",
      "Requirement already satisfied: python-dateutil>=2.7 in c:\\users\\asus\\anaconda3\\lib\\site-packages (from matplotlib->mpld3) (2.8.2)\n",
      "Requirement already satisfied: cycler>=0.10 in c:\\users\\asus\\anaconda3\\lib\\site-packages (from matplotlib->mpld3) (0.11.0)\n",
      "Requirement already satisfied: kiwisolver>=1.0.1 in c:\\users\\asus\\anaconda3\\lib\\site-packages (from matplotlib->mpld3) (1.4.2)\n",
      "Requirement already satisfied: packaging>=20.0 in c:\\users\\asus\\anaconda3\\lib\\site-packages (from matplotlib->mpld3) (21.3)\n",
      "Requirement already satisfied: fonttools>=4.22.0 in c:\\users\\asus\\anaconda3\\lib\\site-packages (from matplotlib->mpld3) (4.25.0)\n",
      "Requirement already satisfied: numpy>=1.17 in c:\\users\\asus\\anaconda3\\lib\\site-packages (from matplotlib->mpld3) (1.21.5)\n",
      "Requirement already satisfied: pillow>=6.2.0 in c:\\users\\asus\\anaconda3\\lib\\site-packages (from matplotlib->mpld3) (9.2.0)\n",
      "Requirement already satisfied: pyparsing>=2.2.1 in c:\\users\\asus\\anaconda3\\lib\\site-packages (from matplotlib->mpld3) (3.0.9)\n",
      "Requirement already satisfied: six>=1.5 in c:\\users\\asus\\anaconda3\\lib\\site-packages (from python-dateutil>=2.7->matplotlib->mpld3) (1.16.0)\n",
      "Requirement already satisfied: lmfit in c:\\users\\asus\\anaconda3\\lib\\site-packages (1.2.1)\n",
      "Requirement already satisfied: scipy>=1.6 in c:\\users\\asus\\anaconda3\\lib\\site-packages (from lmfit) (1.9.1)\n",
      "Requirement already satisfied: uncertainties>=3.1.4 in c:\\users\\asus\\anaconda3\\lib\\site-packages (from lmfit) (3.1.7)\n",
      "Requirement already satisfied: asteval>=0.9.28 in c:\\users\\asus\\anaconda3\\lib\\site-packages (from lmfit) (0.9.29)\n",
      "Requirement already satisfied: numpy>=1.19 in c:\\users\\asus\\anaconda3\\lib\\site-packages (from lmfit) (1.21.5)\n",
      "Requirement already satisfied: future in c:\\users\\asus\\anaconda3\\lib\\site-packages (from uncertainties>=3.1.4->lmfit) (0.18.2)\n"
     ]
    }
   ],
   "source": [
    "import numpy as np\n",
    "import pandas as pd\n",
    "pd.options.mode.chained_assignment = None  # default='warn'\n",
    "\n",
    "import matplotlib.pyplot as plt\n",
    "import matplotlib.dates as mdates\n",
    "%matplotlib inline \n",
    "!pip install mpld3\n",
    "import mpld3\n",
    "mpld3.enable_notebook()\n",
    "\n",
    "from scipy.integrate import odeint\n",
    "!pip install lmfit\n",
    "import lmfit\n",
    "from lmfit.lineshapes import gaussian, lorentzian\n",
    "\n",
    "import warnings\n",
    "warnings.filterwarnings('ignore')"
   ]
  },
  {
   "cell_type": "code",
   "execution_count": 2,
   "id": "f6d2b8e7",
   "metadata": {},
   "outputs": [],
   "source": [
    "def system_equations(y, t, beta, lambd, s, s1, s0, delta, delta0):\n",
    "    # Parameter tetap\n",
    "    d = 0.001799017279\n",
    "    b = 0.01885970822\n",
    "    a = 0.3\n",
    "    r = b - d\n",
    "    K = 150000\n",
    "    L = 10000 #tetap\n",
    "    v = 0.2\n",
    "    alpha = 0.000001\n",
    "    Q0 = 0.05816494383\n",
    "    l = 0.0005 #belom diubah\n",
    "    X, Y, N, B, E = y\n",
    "    \n",
    "    Xdot = (b - a * r * (N / K)) * N - (d + (1 - a) * r * N / K) * X - (beta * Y + lambd * B) * X + v * Y\n",
    "    Ydot = (beta * Y + lambd * B) * X - (v + alpha + d + (1 - a) * r * N / K) * Y\n",
    "    Ndot = r * (1 - N / K) * N - alpha * Y\n",
    "    Bdot = s * B * (1 - (B / L)) + s1 * Y - s0 * B + delta * B * E\n",
    "    Edot = Q0 + l * N - delta0 * E\n",
    "    \n",
    "    return [Xdot, Ydot, Ndot, Bdot, Edot]"
   ]
  },
  {
   "cell_type": "code",
   "execution_count": 3,
   "id": "5da64c55",
   "metadata": {},
   "outputs": [],
   "source": [
    "def fit_function(t, beta, lambd, s, s1, s0, delta, delta0):\n",
    "    # Initial conditions\n",
    "    ya = 826\n",
    "    na = 66445\n",
    "    xa = na - ya\n",
    "    ba = 0.7212510617\n",
    "    ea = 48.30962116\n",
    "    \n",
    "    # Solve the ODE system\n",
    "    solution = odeint(system_equations, [xa, ya, na, ba, ea], t, args=(beta, lambd, s, s1, s0, delta, delta0))\n",
    "    \n",
    "    X = solution[:, 0]\n",
    "    Y = solution[:, 1]\n",
    "    N = solution[:, 2]\n",
    "    \n",
    "    return Y"
   ]
  },
  {
   "cell_type": "raw",
   "id": "2ec1c1c0",
   "metadata": {},
   "source": [
    "mod = lmfit.Model(fit_function)\n",
    "# Set the parameters (and some initial parameter guesses)\n",
    "mod.set_param_hint(\"beta\", value=0.0000004, vary=True, min=0, max=1)\n",
    "mod.set_param_hint(\"lambd\", value=0.0000000005, vary=True, min=0,max=1) #5,7,8\n",
    "mod.set_param_hint(\"s\", value=75, vary=True, min=0)\n",
    "mod.set_param_hint(\"s1\", value=798.8, vary=True, min=0)\n",
    "mod.set_param_hint(\"s0\", value=20, vary=True, min=0)\n",
    "mod.set_param_hint(\"delta\", value=706.6 , vary=True, min=0)\n",
    "mod.set_param_hint(\"delta0\", value=300, vary=True, min=0)\n",
    "params = mod.make_params()\n",
    "#R^2 = -0.3"
   ]
  },
  {
   "cell_type": "raw",
   "id": "9d4326ae",
   "metadata": {},
   "source": [
    "mod = lmfit.Model(fit_function)\n",
    "# Set the parameters (and some initial parameter guesses)\n",
    "mod.set_param_hint(\"beta\", value=0.0000003, vary=True, min=0, max=1)\n",
    "mod.set_param_hint(\"lambd\", value=0.0000000005, vary=True, min=0,max=1) #5,7,8\n",
    "mod.set_param_hint(\"s\", value=75, vary=True, min=0)\n",
    "mod.set_param_hint(\"s1\", value=798.8, vary=True, min=0)\n",
    "mod.set_param_hint(\"s0\", value=20, vary=True, min=0)\n",
    "mod.set_param_hint(\"delta\", value=706.6 , vary=True, min=0)\n",
    "mod.set_param_hint(\"delta0\", value=300, vary=True, min=0)\n",
    "params = mod.make_params()\n",
    "#R^2 = -0.2"
   ]
  },
  {
   "cell_type": "code",
   "execution_count": 4,
   "id": "575aa172",
   "metadata": {},
   "outputs": [],
   "source": [
    "mod = lmfit.Model(fit_function)\n",
    "# Set the parameters (and some initial parameter guesses)\n",
    "mod.set_param_hint(\"beta\", value=0.0000003, vary=True, min=0, max=1)\n",
    "mod.set_param_hint(\"lambd\", value=0.0000000005, vary=True, min=0,max=1) \n",
    "mod.set_param_hint(\"s\", value=75, vary=True, min=0)\n",
    "mod.set_param_hint(\"s1\", value=798.846, vary=True, min=0)\n",
    "mod.set_param_hint(\"s0\", value=20, vary=True, min=0)\n",
    "mod.set_param_hint(\"delta\", value=708 , vary=True, min=0)\n",
    "mod.set_param_hint(\"delta0\", value=300, vary=True, min=0)\n",
    "params = mod.make_params()"
   ]
  },
  {
   "cell_type": "code",
   "execution_count": 5,
   "id": "d8c9783a",
   "metadata": {},
   "outputs": [],
   "source": [
    "# Data\n",
    "t_data = np.linspace(0, 50, 8)\n",
    "y_data = np.array([826,2115,1281,1047,1152,1025,973,1889])\n",
    "\n",
    "N_data = np.array([66445,66592,66681,66710,66692,66614,66534,66349])\n",
    "X_data = N_data - y_data \n",
    "B_data=np.array([0.7212510617,0.7212510617,0.7212510617,0.7212510617,11.38817466,18.22107945,0.7212510617,0.7212510617])\n",
    "E_data=np.array([48.30962116,48.41649924,48.48120774,48.50229254,48.48920542,48.4324946,48.37432966,48.23982323])"
   ]
  },
  {
   "cell_type": "code",
   "execution_count": 6,
   "id": "97d08319",
   "metadata": {},
   "outputs": [],
   "source": [
    "result = mod.fit(y_data, params, method=\"leastsq\", t=t_data, X=X_data, N=N_data, B = B_data, E = E_data)  # Fitting"
   ]
  },
  {
   "cell_type": "code",
   "execution_count": 7,
   "id": "0a4fb680",
   "metadata": {},
   "outputs": [
    {
     "data": {
      "text/plain": [
       "{'beta': 0.0007004286073311605,\n",
       " 'lambd': 0.00017714650020850264,\n",
       " 's': 354960.4775340526,\n",
       " 's1': 485245.7048125583,\n",
       " 's0': 73618.61320068887,\n",
       " 'delta': 1425597.2982874168,\n",
       " 'delta0': 357829.2726687185}"
      ]
     },
     "execution_count": 7,
     "metadata": {},
     "output_type": "execute_result"
    },
    {
     "data": {
      "image/png": "[encoded data removed]",
      "text/html": [
       "\n",
       "\n",
       "<style>\n",
       "\n",
       "</style>\n",
       "\n",
       "<div id=\"fig_el411623553954832964148735574\"></div>\n",
       "<script>\n",
       "function mpld3_load_lib(url, callback){\n",
       "  var s = document.createElement('script');\n",
       "  s.src = url;\n",
       "  s.async = true;\n",
       "  s.onreadystatechange = s.onload = callback;\n",
       "  s.onerror = function(){console.warn(\"failed to load library \" + url);};\n",
       "  document.getElementsByTagName(\"head\")[0].appendChild(s);\n",
       "}\n",
       "\n",
       "if(typeof(mpld3) !== \"undefined\" && mpld3._mpld3IsLoaded){\n",
       "   // already loaded: just create the figure\n",
       "   !function(mpld3){\n",
       "       \n",
       "       mpld3.draw_figure(\"fig_el411623553954832964148735574\", {\"width\": 800.0, \"height\": 400.0, \"axes\": [{\"bbox\": [0.125, 0.10999999999999999, 0.775, 0.77], \"xlim\": [-2.5, 52.5], \"ylim\": [-112.65907884167484, 2365.8406556751715], \"xdomain\": [-2.5, 52.5], \"ydomain\": [-112.65907884167484, 2365.8406556751715], \"xscale\": \"linear\", \"yscale\": \"linear\", \"axes\": [{\"position\": \"bottom\", \"nticks\": 8, \"tickvalues\": null, \"tickformat_formatter\": \"\", \"tickformat\": null, \"scale\": \"linear\", \"fontsize\": 10.0, \"grid\": {\"gridOn\": false}, \"visible\": true}, {\"position\": \"left\", \"nticks\": 7, \"tickvalues\": null, \"tickformat_formatter\": \"\", \"tickformat\": null, \"scale\": \"linear\", \"fontsize\": 10.0, \"grid\": {\"gridOn\": false}, \"visible\": true}], \"axesbg\": \"#FFFFFF\", \"axesbgalpha\": null, \"zoomable\": true, \"id\": \"el41162355395483536\", \"lines\": [{\"data\": \"data01\", \"xindex\": 0, \"yindex\": 1, \"coordinates\": \"data\", \"id\": \"el41162355481855504\", \"color\": \"#1F77B4\", \"linewidth\": 1.5, \"dasharray\": \"none\", \"alpha\": 1, \"zorder\": 2, \"drawstyle\": \"default\"}, {\"data\": \"data01\", \"xindex\": 0, \"yindex\": 2, \"coordinates\": \"data\", \"id\": \"el41162355488951792\", \"color\": \"#FF7F0E\", \"linewidth\": 1.5, \"dasharray\": \"none\", \"alpha\": 1, \"zorder\": 2, \"drawstyle\": \"default\"}, {\"data\": \"data02\", \"xindex\": 0, \"yindex\": 1, \"coordinates\": \"axes\", \"id\": \"el41162355489064560\", \"color\": \"#1F77B4\", \"linewidth\": 1.5, \"dasharray\": \"none\", \"alpha\": 1, \"zorder\": 1000002.0, \"drawstyle\": \"default\"}, {\"data\": \"data02\", \"xindex\": 0, \"yindex\": 2, \"coordinates\": \"axes\", \"id\": \"el41162355489065856\", \"color\": \"#FF7F0E\", \"linewidth\": 1.5, \"dasharray\": \"none\", \"alpha\": 1, \"zorder\": 1000002.0, \"drawstyle\": \"default\"}], \"paths\": [{\"data\": \"data03\", \"xindex\": 0, \"yindex\": 1, \"coordinates\": \"axes\", \"pathcodes\": [\"M\", \"L\", \"S\", \"L\", \"S\", \"L\", \"S\", \"L\", \"S\", \"Z\"], \"id\": \"el41162355489063024\", \"dasharray\": \"none\", \"alpha\": 0.8, \"facecolor\": \"rgba(255, 255, 255, 0.8)\", \"edgecolor\": \"rgba(204, 204, 204, 0.8)\", \"edgewidth\": 1.0, \"zorder\": 1000000.0}], \"markers\": [], \"texts\": [{\"text\": \"t\", \"position\": [0.5, -0.09505772005772004], \"coordinates\": \"axes\", \"h_anchor\": \"middle\", \"v_baseline\": \"hanging\", \"rotation\": -0.0, \"fontsize\": 10.0, \"color\": \"#000000\", \"alpha\": 1, \"zorder\": 3, \"id\": \"el41162355481536016\"}, {\"text\": \"y\", \"position\": [-0.08189964157706094, 0.5], \"coordinates\": \"axes\", \"h_anchor\": \"middle\", \"v_baseline\": \"auto\", \"rotation\": -90.0, \"fontsize\": 10.0, \"color\": \"#000000\", \"alpha\": 1, \"zorder\": 3, \"id\": \"el41162355481650176\"}, {\"text\": \"Model(fit_function)\", \"position\": [0.5, 1.027056277056277], \"coordinates\": \"axes\", \"h_anchor\": \"middle\", \"v_baseline\": \"auto\", \"rotation\": -0.0, \"fontsize\": 12.0, \"color\": \"#000000\", \"alpha\": 1, \"zorder\": 3, \"id\": \"el41162355488847952\"}, {\"text\": \"data\", \"position\": [0.9012096774193549, 0.9237012987012989], \"coordinates\": \"axes\", \"h_anchor\": \"start\", \"v_baseline\": \"auto\", \"rotation\": -0.0, \"fontsize\": 10.0, \"color\": \"#000000\", \"alpha\": 1, \"zorder\": 1000003.0, \"id\": \"el41162355489063744\"}, {\"text\": \"best fit\", \"position\": [0.9012096774193549, 0.8556998556998557], \"coordinates\": \"axes\", \"h_anchor\": \"start\", \"v_baseline\": \"auto\", \"rotation\": -0.0, \"fontsize\": 10.0, \"color\": \"#000000\", \"alpha\": 1, \"zorder\": 1000003.0, \"id\": \"el41162355489065040\"}], \"collections\": [], \"images\": [], \"sharex\": [], \"sharey\": []}], \"data\": {\"data01\": [[0.0, 826.0, 826.0], [7.142857142857143, 2115.0, 2253.181576833497], [14.285714285714286, 1281.0, 0.0], [21.42857142857143, 1047.0, 0.0], [28.571428571428573, 1152.0, 0.0], [35.714285714285715, 1025.0, 0.0], [42.85714285714286, 973.0, 0.0], [50.0, 1889.0, 0.0]], \"data02\": [[0.8384856630824372, 0.9394841269841272, 0.871482683982684], [0.8608870967741935, 0.9394841269841272, 0.871482683982684], [0.8832885304659498, 0.9394841269841272, 0.871482683982684]], \"data03\": [[0.8340053763440861, 0.8279220779220781], [0.9843189964157705, 0.8279220779220781], [0.9887992831541218, 0.8279220779220781], [0.9887992831541218, 0.8369408369408371], [0.9887992831541218, 0.9684343434343436], [0.9887992831541218, 0.9774531024531026], [0.9843189964157705, 0.9774531024531026], [0.8340053763440861, 0.9774531024531026], [0.8295250896057348, 0.9774531024531026], [0.8295250896057348, 0.9684343434343436], [0.8295250896057348, 0.8369408369408371], [0.8295250896057348, 0.8279220779220781], [0.8340053763440861, 0.8279220779220781]]}, \"id\": \"el41162355395483296\", \"plugins\": [{\"type\": \"reset\"}, {\"type\": \"zoom\", \"button\": true, \"enabled\": false}, {\"type\": \"boxzoom\", \"button\": true, \"enabled\": false}]});\n",
       "   }(mpld3);\n",
       "}else if(typeof define === \"function\" && define.amd){\n",
       "   // require.js is available: use it to load d3/mpld3\n",
       "   require.config({paths: {d3: \"https://d3js.org/d3.v5\"}});\n",
       "   require([\"d3\"], function(d3){\n",
       "      window.d3 = d3;\n",
       "      mpld3_load_lib(\"https://mpld3.github.io/js/mpld3.v0.5.9.js\", function(){\n",
       "         \n",
       "         mpld3.draw_figure(\"fig_el411623553954832964148735574\", {\"width\": 800.0, \"height\": 400.0, \"axes\": [{\"bbox\": [0.125, 0.10999999999999999, 0.775, 0.77], \"xlim\": [-2.5, 52.5], \"ylim\": [-112.65907884167484, 2365.8406556751715], \"xdomain\": [-2.5, 52.5], \"ydomain\": [-112.65907884167484, 2365.8406556751715], \"xscale\": \"linear\", \"yscale\": \"linear\", \"axes\": [{\"position\": \"bottom\", \"nticks\": 8, \"tickvalues\": null, \"tickformat_formatter\": \"\", \"tickformat\": null, \"scale\": \"linear\", \"fontsize\": 10.0, \"grid\": {\"gridOn\": false}, \"visible\": true}, {\"position\": \"left\", \"nticks\": 7, \"tickvalues\": null, \"tickformat_formatter\": \"\", \"tickformat\": null, \"scale\": \"linear\", \"fontsize\": 10.0, \"grid\": {\"gridOn\": false}, \"visible\": true}], \"axesbg\": \"#FFFFFF\", \"axesbgalpha\": null, \"zoomable\": true, \"id\": \"el41162355395483536\", \"lines\": [{\"data\": \"data01\", \"xindex\": 0, \"yindex\": 1, \"coordinates\": \"data\", \"id\": \"el41162355481855504\", \"color\": \"#1F77B4\", \"linewidth\": 1.5, \"dasharray\": \"none\", \"alpha\": 1, \"zorder\": 2, \"drawstyle\": \"default\"}, {\"data\": \"data01\", \"xindex\": 0, \"yindex\": 2, \"coordinates\": \"data\", \"id\": \"el41162355488951792\", \"color\": \"#FF7F0E\", \"linewidth\": 1.5, \"dasharray\": \"none\", \"alpha\": 1, \"zorder\": 2, \"drawstyle\": \"default\"}, {\"data\": \"data02\", \"xindex\": 0, \"yindex\": 1, \"coordinates\": \"axes\", \"id\": \"el41162355489064560\", \"color\": \"#1F77B4\", \"linewidth\": 1.5, \"dasharray\": \"none\", \"alpha\": 1, \"zorder\": 1000002.0, \"drawstyle\": \"default\"}, {\"data\": \"data02\", \"xindex\": 0, \"yindex\": 2, \"coordinates\": \"axes\", \"id\": \"el41162355489065856\", \"color\": \"#FF7F0E\", \"linewidth\": 1.5, \"dasharray\": \"none\", \"alpha\": 1, \"zorder\": 1000002.0, \"drawstyle\": \"default\"}], \"paths\": [{\"data\": \"data03\", \"xindex\": 0, \"yindex\": 1, \"coordinates\": \"axes\", \"pathcodes\": [\"M\", \"L\", \"S\", \"L\", \"S\", \"L\", \"S\", \"L\", \"S\", \"Z\"], \"id\": \"el41162355489063024\", \"dasharray\": \"none\", \"alpha\": 0.8, \"facecolor\": \"rgba(255, 255, 255, 0.8)\", \"edgecolor\": \"rgba(204, 204, 204, 0.8)\", \"edgewidth\": 1.0, \"zorder\": 1000000.0}], \"markers\": [], \"texts\": [{\"text\": \"t\", \"position\": [0.5, -0.09505772005772004], \"coordinates\": \"axes\", \"h_anchor\": \"middle\", \"v_baseline\": \"hanging\", \"rotation\": -0.0, \"fontsize\": 10.0, \"color\": \"#000000\", \"alpha\": 1, \"zorder\": 3, \"id\": \"el41162355481536016\"}, {\"text\": \"y\", \"position\": [-0.08189964157706094, 0.5], \"coordinates\": \"axes\", \"h_anchor\": \"middle\", \"v_baseline\": \"auto\", \"rotation\": -90.0, \"fontsize\": 10.0, \"color\": \"#000000\", \"alpha\": 1, \"zorder\": 3, \"id\": \"el41162355481650176\"}, {\"text\": \"Model(fit_function)\", \"position\": [0.5, 1.027056277056277], \"coordinates\": \"axes\", \"h_anchor\": \"middle\", \"v_baseline\": \"auto\", \"rotation\": -0.0, \"fontsize\": 12.0, \"color\": \"#000000\", \"alpha\": 1, \"zorder\": 3, \"id\": \"el41162355488847952\"}, {\"text\": \"data\", \"position\": [0.9012096774193549, 0.9237012987012989], \"coordinates\": \"axes\", \"h_anchor\": \"start\", \"v_baseline\": \"auto\", \"rotation\": -0.0, \"fontsize\": 10.0, \"color\": \"#000000\", \"alpha\": 1, \"zorder\": 1000003.0, \"id\": \"el41162355489063744\"}, {\"text\": \"best fit\", \"position\": [0.9012096774193549, 0.8556998556998557], \"coordinates\": \"axes\", \"h_anchor\": \"start\", \"v_baseline\": \"auto\", \"rotation\": -0.0, \"fontsize\": 10.0, \"color\": \"#000000\", \"alpha\": 1, \"zorder\": 1000003.0, \"id\": \"el41162355489065040\"}], \"collections\": [], \"images\": [], \"sharex\": [], \"sharey\": []}], \"data\": {\"data01\": [[0.0, 826.0, 826.0], [7.142857142857143, 2115.0, 2253.181576833497], [14.285714285714286, 1281.0, 0.0], [21.42857142857143, 1047.0, 0.0], [28.571428571428573, 1152.0, 0.0], [35.714285714285715, 1025.0, 0.0], [42.85714285714286, 973.0, 0.0], [50.0, 1889.0, 0.0]], \"data02\": [[0.8384856630824372, 0.9394841269841272, 0.871482683982684], [0.8608870967741935, 0.9394841269841272, 0.871482683982684], [0.8832885304659498, 0.9394841269841272, 0.871482683982684]], \"data03\": [[0.8340053763440861, 0.8279220779220781], [0.9843189964157705, 0.8279220779220781], [0.9887992831541218, 0.8279220779220781], [0.9887992831541218, 0.8369408369408371], [0.9887992831541218, 0.9684343434343436], [0.9887992831541218, 0.9774531024531026], [0.9843189964157705, 0.9774531024531026], [0.8340053763440861, 0.9774531024531026], [0.8295250896057348, 0.9774531024531026], [0.8295250896057348, 0.9684343434343436], [0.8295250896057348, 0.8369408369408371], [0.8295250896057348, 0.8279220779220781], [0.8340053763440861, 0.8279220779220781]]}, \"id\": \"el41162355395483296\", \"plugins\": [{\"type\": \"reset\"}, {\"type\": \"zoom\", \"button\": true, \"enabled\": false}, {\"type\": \"boxzoom\", \"button\": true, \"enabled\": false}]});\n",
       "      });\n",
       "    });\n",
       "}else{\n",
       "    // require.js not available: dynamically load d3 & mpld3\n",
       "    mpld3_load_lib(\"https://d3js.org/d3.v5.js\", function(){\n",
       "         mpld3_load_lib(\"https://mpld3.github.io/js/mpld3.v0.5.9.js\", function(){\n",
       "                 \n",
       "                 mpld3.draw_figure(\"fig_el411623553954832964148735574\", {\"width\": 800.0, \"height\": 400.0, \"axes\": [{\"bbox\": [0.125, 0.10999999999999999, 0.775, 0.77], \"xlim\": [-2.5, 52.5], \"ylim\": [-112.65907884167484, 2365.8406556751715], \"xdomain\": [-2.5, 52.5], \"ydomain\": [-112.65907884167484, 2365.8406556751715], \"xscale\": \"linear\", \"yscale\": \"linear\", \"axes\": [{\"position\": \"bottom\", \"nticks\": 8, \"tickvalues\": null, \"tickformat_formatter\": \"\", \"tickformat\": null, \"scale\": \"linear\", \"fontsize\": 10.0, \"grid\": {\"gridOn\": false}, \"visible\": true}, {\"position\": \"left\", \"nticks\": 7, \"tickvalues\": null, \"tickformat_formatter\": \"\", \"tickformat\": null, \"scale\": \"linear\", \"fontsize\": 10.0, \"grid\": {\"gridOn\": false}, \"visible\": true}], \"axesbg\": \"#FFFFFF\", \"axesbgalpha\": null, \"zoomable\": true, \"id\": \"el41162355395483536\", \"lines\": [{\"data\": \"data01\", \"xindex\": 0, \"yindex\": 1, \"coordinates\": \"data\", \"id\": \"el41162355481855504\", \"color\": \"#1F77B4\", \"linewidth\": 1.5, \"dasharray\": \"none\", \"alpha\": 1, \"zorder\": 2, \"drawstyle\": \"default\"}, {\"data\": \"data01\", \"xindex\": 0, \"yindex\": 2, \"coordinates\": \"data\", \"id\": \"el41162355488951792\", \"color\": \"#FF7F0E\", \"linewidth\": 1.5, \"dasharray\": \"none\", \"alpha\": 1, \"zorder\": 2, \"drawstyle\": \"default\"}, {\"data\": \"data02\", \"xindex\": 0, \"yindex\": 1, \"coordinates\": \"axes\", \"id\": \"el41162355489064560\", \"color\": \"#1F77B4\", \"linewidth\": 1.5, \"dasharray\": \"none\", \"alpha\": 1, \"zorder\": 1000002.0, \"drawstyle\": \"default\"}, {\"data\": \"data02\", \"xindex\": 0, \"yindex\": 2, \"coordinates\": \"axes\", \"id\": \"el41162355489065856\", \"color\": \"#FF7F0E\", \"linewidth\": 1.5, \"dasharray\": \"none\", \"alpha\": 1, \"zorder\": 1000002.0, \"drawstyle\": \"default\"}], \"paths\": [{\"data\": \"data03\", \"xindex\": 0, \"yindex\": 1, \"coordinates\": \"axes\", \"pathcodes\": [\"M\", \"L\", \"S\", \"L\", \"S\", \"L\", \"S\", \"L\", \"S\", \"Z\"], \"id\": \"el41162355489063024\", \"dasharray\": \"none\", \"alpha\": 0.8, \"facecolor\": \"rgba(255, 255, 255, 0.8)\", \"edgecolor\": \"rgba(204, 204, 204, 0.8)\", \"edgewidth\": 1.0, \"zorder\": 1000000.0}], \"markers\": [], \"texts\": [{\"text\": \"t\", \"position\": [0.5, -0.09505772005772004], \"coordinates\": \"axes\", \"h_anchor\": \"middle\", \"v_baseline\": \"hanging\", \"rotation\": -0.0, \"fontsize\": 10.0, \"color\": \"#000000\", \"alpha\": 1, \"zorder\": 3, \"id\": \"el41162355481536016\"}, {\"text\": \"y\", \"position\": [-0.08189964157706094, 0.5], \"coordinates\": \"axes\", \"h_anchor\": \"middle\", \"v_baseline\": \"auto\", \"rotation\": -90.0, \"fontsize\": 10.0, \"color\": \"#000000\", \"alpha\": 1, \"zorder\": 3, \"id\": \"el41162355481650176\"}, {\"text\": \"Model(fit_function)\", \"position\": [0.5, 1.027056277056277], \"coordinates\": \"axes\", \"h_anchor\": \"middle\", \"v_baseline\": \"auto\", \"rotation\": -0.0, \"fontsize\": 12.0, \"color\": \"#000000\", \"alpha\": 1, \"zorder\": 3, \"id\": \"el41162355488847952\"}, {\"text\": \"data\", \"position\": [0.9012096774193549, 0.9237012987012989], \"coordinates\": \"axes\", \"h_anchor\": \"start\", \"v_baseline\": \"auto\", \"rotation\": -0.0, \"fontsize\": 10.0, \"color\": \"#000000\", \"alpha\": 1, \"zorder\": 1000003.0, \"id\": \"el41162355489063744\"}, {\"text\": \"best fit\", \"position\": [0.9012096774193549, 0.8556998556998557], \"coordinates\": \"axes\", \"h_anchor\": \"start\", \"v_baseline\": \"auto\", \"rotation\": -0.0, \"fontsize\": 10.0, \"color\": \"#000000\", \"alpha\": 1, \"zorder\": 1000003.0, \"id\": \"el41162355489065040\"}], \"collections\": [], \"images\": [], \"sharex\": [], \"sharey\": []}], \"data\": {\"data01\": [[0.0, 826.0, 826.0], [7.142857142857143, 2115.0, 2253.181576833497], [14.285714285714286, 1281.0, 0.0], [21.42857142857143, 1047.0, 0.0], [28.571428571428573, 1152.0, 0.0], [35.714285714285715, 1025.0, 0.0], [42.85714285714286, 973.0, 0.0], [50.0, 1889.0, 0.0]], \"data02\": [[0.8384856630824372, 0.9394841269841272, 0.871482683982684], [0.8608870967741935, 0.9394841269841272, 0.871482683982684], [0.8832885304659498, 0.9394841269841272, 0.871482683982684]], \"data03\": [[0.8340053763440861, 0.8279220779220781], [0.9843189964157705, 0.8279220779220781], [0.9887992831541218, 0.8279220779220781], [0.9887992831541218, 0.8369408369408371], [0.9887992831541218, 0.9684343434343436], [0.9887992831541218, 0.9774531024531026], [0.9843189964157705, 0.9774531024531026], [0.8340053763440861, 0.9774531024531026], [0.8295250896057348, 0.9774531024531026], [0.8295250896057348, 0.9684343434343436], [0.8295250896057348, 0.8369408369408371], [0.8295250896057348, 0.8279220779220781], [0.8340053763440861, 0.8279220779220781]]}, \"id\": \"el41162355395483296\", \"plugins\": [{\"type\": \"reset\"}, {\"type\": \"zoom\", \"button\": true, \"enabled\": false}, {\"type\": \"boxzoom\", \"button\": true, \"enabled\": false}]});\n",
       "            })\n",
       "         });\n",
       "}\n",
       "</script>"
      ],
      "text/plain": [
       "<Figure size 800x400 with 1 Axes>"
      ]
     },
     "metadata": {},
     "output_type": "display_data"
    }
   ],
   "source": [
    "plt.figure(figsize=(8,4))\n",
    "result.plot_fit(datafmt=\"-\");\n",
    "result.best_values"
   ]
  },
  {
   "cell_type": "code",
   "execution_count": 8,
   "id": "cb6da19e",
   "metadata": {},
   "outputs": [
    {
     "data": {
      "text/html": [
       "<h2> Model</h2> Model(fit_function) <h2>Fit Statistics</h2><table><tr><td>fitting method</td><td>leastsq</td><td></td></tr><tr><td># function evals</td><td>350</td><td></td></tr><tr><td># data points</td><td>8</td><td></td></tr><tr><td># variables</td><td>7</td><td></td></tr><tr><td>chi-square</td><td> 9389928.38</td><td></td></tr><tr><td>reduced chi-square</td><td> 9389928.38</td><td></td></tr><tr><td>Akaike info crit.</td><td> 125.805653</td><td></td></tr><tr><td>Bayesian info crit.</td><td> 126.361744</td><td></td></tr><tr><td>R-squared</td><td>-5.24499757</td><td></td></tr></table><h2>Variables</h2><table><tr><th> name </th><th> value </th><th> initial value </th><th> min </th><th> max </th><th> vary </th></tr><tr><td> beta </td><td>  7.0043e-04 </td><td> 3e-07 </td><td>  0.00000000 </td><td>  1.00000000 </td><td> True </td></tr><tr><td> lambd </td><td>  1.7715e-04 </td><td> 5e-10 </td><td>  0.00000000 </td><td>  1.00000000 </td><td> True </td></tr><tr><td> s </td><td>  354960.478 </td><td> 75 </td><td>  0.00000000 </td><td>         inf </td><td> True </td></tr><tr><td> s1 </td><td>  485245.705 </td><td> 798.846 </td><td>  0.00000000 </td><td>         inf </td><td> True </td></tr><tr><td> s0 </td><td>  73618.6132 </td><td> 20 </td><td>  0.00000000 </td><td>         inf </td><td> True </td></tr><tr><td> delta </td><td>  1425597.30 </td><td> 708 </td><td>  0.00000000 </td><td>         inf </td><td> True </td></tr><tr><td> delta0 </td><td>  357829.273 </td><td> 300 </td><td>  0.00000000 </td><td>         inf </td><td> True </td></tr></table>"
      ],
      "text/plain": [
       "<lmfit.model.ModelResult at 0x2246da2dd90>"
      ]
     },
     "execution_count": 8,
     "metadata": {},
     "output_type": "execute_result"
    }
   ],
   "source": [
    "result"
   ]
  },
  {
   "cell_type": "code",
   "execution_count": null,
   "id": "5ab76cbb",
   "metadata": {},
   "outputs": [],
   "source": []
  }
 ],
 "metadata": {
  "kernelspec": {
   "display_name": "Python 3 (ipykernel)",
   "language": "python",
   "name": "python3"
  },
  "language_info": {
   "codemirror_mode": {
    "name": "ipython",
    "version": 3
   },
   "file_extension": ".py",
   "mimetype": "text/x-python",
   "name": "python",
   "nbconvert_exporter": "python",
   "pygments_lexer": "ipython3",
   "version": "3.9.13"
  }
 },
 "nbformat": 4,
 "nbformat_minor": 5
}
